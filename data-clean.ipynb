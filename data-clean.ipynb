{
 "cells": [
  {
   "cell_type": "code",
   "execution_count": 2,
   "id": "f0c54a1f",
   "metadata": {
    "id": "f0c54a1f"
   },
   "outputs": [],
   "source": [
    "import pandas as pd\n",
    "import datetime\n",
    "import numpy as np \n",
    "import datetime\n",
    "from sklearn.model_selection import train_test_split"
   ]
  },
  {
   "cell_type": "code",
   "execution_count": null,
   "id": "d5c8d393",
   "metadata": {
    "id": "d5c8d393"
   },
   "outputs": [],
   "source": [
    "divvy_df = pd.read_csv(\"fin_processed_file.csv\")\n",
    "divvy_df.head()"
   ]
  },
  {
   "cell_type": "code",
   "execution_count": null,
   "id": "01e4fa97",
   "metadata": {},
   "outputs": [],
   "source": [
    "divvy_df.head()"
   ]
  },
  {
   "cell_type": "code",
   "execution_count": null,
   "id": "c74947cf",
   "metadata": {},
   "outputs": [],
   "source": [
    "new_df, new_df2 = train_test_split(divvy_df,test_size=0.99)\n",
    "\n",
    "print(new_df.shape)\n",
    "print(new_df2.shape)\n",
    "\n",
    "divvy_df=new_df\n"
   ]
  },
  {
   "cell_type": "code",
   "execution_count": 4,
   "id": "8db130b1",
   "metadata": {},
   "outputs": [],
   "source": [
    "seasons = {4: [12, 1, 2], 1: [3, 4, 5], 2: [6, 7, 8], 3: [\n",
    "    9, 10, 11]}  # Spring, Summer, Fall, winter [1,2,3,4]\n",
    "times = {0: (\"night\", \"late\"), 300: (\"night\", \"late\"), 600: (\"morning\", \"early\"),\n",
    "         900: (\"morning\", \"usual\"), 1200: (\"noon\", \"early\"), 1500: (\"noon\", \"usual\"), 1800: (\"night\", \"early\"), 2100: (\"night\", \"usual\")}\n",
    "ss = {}\n",
    "for k, v in seasons.items():\n",
    "    for e in v:\n",
    "        ss[e] = k\n"
   ]
  },
  {
   "cell_type": "code",
   "execution_count": 5,
   "id": "7f5bb26e",
   "metadata": {},
   "outputs": [],
   "source": [
    "t = \"str\"\n",
    "\n",
    "\n",
    "def changeDateFormatWeather(date):\n",
    "    if type(date) == type(t):\n",
    "        try:\n",
    "            date = datetime.datetime.strptime(date, \"%Y-%m-%d\")\n",
    "            return {\"date\": date.strftime('%m-%d-%y'),\n",
    "                    \"day\": date.weekday(),\n",
    "                    \"season\": ss[date.month]\n",
    "                    }\n",
    "        except Exception as e:\n",
    "            print(\"error\")\n",
    "            return \"error\"\n",
    "    else:\n",
    "        print(\"dif type\")\n",
    "        return \"error\"\n",
    "\n",
    "\n",
    "def getTimeFormatWeather(time):\n",
    "    return {\n",
    "        \"time-d\": times[time][0],\n",
    "        \"time-dd\": times[time][1]\n",
    "    }\n",
    "\n",
    "weather_df = pd.read_csv(\"weather.csv\")\n",
    "weather_df.head()\n",
    "weather_df[\"old_date\"] = weather_df.date\n",
    "weather_df[\"date\"] = weather_df.old_date.apply(lambda x: changeDateFormatWeather(x)[\"date\"])\n"
   ]
  },
  {
   "cell_type": "code",
   "execution_count": 6,
   "id": "7ddd159d",
   "metadata": {},
   "outputs": [
    {
     "data": {
      "text/plain": [
       "[1, 3]"
      ]
     },
     "execution_count": 6,
     "metadata": {},
     "output_type": "execute_result"
    }
   ],
   "source": [
    "times = {0: (\"night\", \"late\"), 300: (\"night\", \"late\"), 600: (\"morning\", \"early\"),\n",
    "         900: (\"morning\", \"usual\"), 1200: (\"noon\", \"early\"), 1500: (\"noon\", \"usual\"),\n",
    "         1800: (\"night\", \"early\"), 2100: (\"night\", \"usual\")}\n",
    "\n",
    "timeRange = [\"morning\", \"noon\", \"evening\", \"night\"]\n",
    "# morining - [400,1145], noon - [1146,1559], eve - [1600,1859], night - [1700,2359] [0,359]\n",
    "\n",
    "\n",
    "def getTimeD(t):\n",
    "    if t >= 400 and t <= 1145:\n",
    "        return [1, getTimeDD(t, 400, 1145, \"morning\")]\n",
    "    elif t >= 1146 and t <= 1559:\n",
    "        return [2, getTimeDD(t, 1146, 1559, \"noon\")]\n",
    "    elif t >= 1600 and t <= 1859:\n",
    "        return [3, getTimeDD(t, 1600, 1859, \"evening\")]\n",
    "    elif t >= 1700 and t <= 2359:\n",
    "        return [4, getTimeDD(t, 1700, 2359, \"night\")]\n",
    "    elif t >= 0 and t <= 359:\n",
    "        return [4, getTimeDD(t, 0, 359, \"night\")]\n",
    "\n",
    "\n",
    "def getTimeDD(t, s, e, d):\n",
    "    if d == \"morning\" or d == \"noon\":\n",
    "        per = (t-s)/(e-s)*100\n",
    "        if per < 33:\n",
    "            return 1\n",
    "        elif per >= 33 and per <= 66:\n",
    "            return 2\n",
    "        elif per > 66:\n",
    "            return 3\n",
    "    elif d == \"evening\":\n",
    "        return 2\n",
    "    elif d == \"night\":\n",
    "        if s == 0:\n",
    "            return 3\n",
    "        else:\n",
    "            per = (t-s)/(e-s)*100\n",
    "            if per < 50:\n",
    "                return 1\n",
    "            elif per >= 50:\n",
    "                return 2\n",
    "\n",
    "\n",
    "getTimeD(1100)\n"
   ]
  },
  {
   "cell_type": "code",
   "execution_count": 7,
   "id": "a42f49f2",
   "metadata": {},
   "outputs": [
    {
     "data": {
      "text/plain": [
       "1"
      ]
     },
     "execution_count": 7,
     "metadata": {},
     "output_type": "execute_result"
    }
   ],
   "source": [
    "# holidays = [[\"01\",\"21\"], [\"02\",\"18\"], [\"04\",\"19\"], [\"04\",\"19\"],[\"05\",\"27\"],\n",
    "# [\"07\",\"04\"],[\"09\",\"02\"],[\"10\",\"14\"],[\"11\",\"11\"],[\"11\",\"28\"],[\"12\",\"25\"]]\n",
    "\n",
    "holidays = [\"01-21\", \"02-18\", \"04-19\", \"04-19\", \"05-27\",\n",
    "            \"07-04\", \"09-02\", \"10-14\", \"11-11\", \"11-28\", \"12-25\"]\n",
    "\n",
    "\n",
    "def getIsHoliday(ddate):\n",
    "    if len([s for s in holidays if ddate.startswith(s)]) > 0:\n",
    "        return 1\n",
    "    else:\n",
    "        return 0\n",
    "\n",
    "\n",
    "getIsHoliday('01-21-21')\n"
   ]
  },
  {
   "cell_type": "code",
   "execution_count": null,
   "id": "cee8801d",
   "metadata": {},
   "outputs": [],
   "source": [
    "#datetime.datetime.strptime('01/05/2015 01:30:00 PM', \"%m/%d/%Y %H:%M:%S %p\") 09-26-18 19:53:22\n",
    "\n",
    "def changeDateFormatDivvy(date):\n",
    "    if type(date) == type(t):\n",
    "        try:\n",
    "            date = datetime.datetime.strptime(date, \"%Y-%m-%d %H:%M:%S\")\n",
    "            tim = int(date.strftime('%H%M'))\n",
    "            tim_d = getTimeD(tim)\n",
    "            return {\"date\": date.strftime('%m-%d-%y'),\n",
    "                    \"day\": date.weekday(),\n",
    "                    \"season\": ss[date.month],\n",
    "                    \"time\": tim,\n",
    "                    \"time-d\": tim_d[0],\n",
    "                    \"time-dd\": tim_d[1],\n",
    "                    \"holiday\": date.strftime('%m-%d-%y').startswith(\"tt\", 0, 5),\n",
    "                    \"newdate\":  date.strftime(\"%m-%d-%y %H:%M:%S\")\n",
    "                    }\n",
    "        except Exception as e:\n",
    "            date = datetime.datetime.strptime(date, \"%m/%d/%Y %I:%M:%S %p\")\n",
    "            tim = int(date.strftime('%H%M'))\n",
    "            tim_d = getTimeD(tim)\n",
    "            return {\"date\": date.strftime('%m-%d-%y'),\n",
    "                    \"day\": date.weekday(),\n",
    "                    \"season\": ss[date.month],\n",
    "                    \"time\": tim,\n",
    "                    \"time-d\": tim_d[0],\n",
    "                    \"time-dd\": tim_d[1],\n",
    "                    \"holiday\": date.strftime('%m-%d-%y').startswith(\"tt\", 0, 5),\n",
    "                    \"newdate\":  date.strftime(\"%m-%d-%y %H:%M:%S\")\n",
    "                    }\n",
    "    else:\n",
    "        print(\"dif type\")\n",
    "        return \"error\"\n",
    "\n",
    "\n",
    "def getTimeFormatWeather(time):\n",
    "    return {\n",
    "        \"time-d\": times[time][0],\n",
    "        \"time-dd\": times[time][1]\n",
    "    }\n"
   ]
  },
  {
   "cell_type": "code",
   "execution_count": null,
   "id": "6d277952",
   "metadata": {},
   "outputs": [],
   "source": [
    "divvy_df[\"new_start_date\"] = divvy_df.started_at.apply(\n",
    "    lambda x: changeDateFormatDivvy(x)[\"newdate\"])\n",
    "divvy_df[\"new_end_date\"] = divvy_df.started_at.apply(\n",
    "    lambda x: changeDateFormatDivvy(x)[\"newdate\"])\n",
    "divvy_df[\"start_date\"] = divvy_df.started_at.apply(\n",
    "    lambda x: changeDateFormatDivvy(x)[\"date\"])\n",
    "divvy_df[\"start_day\"] = divvy_df.started_at.apply(\n",
    "    lambda x: changeDateFormatDivvy(x)[\"day\"])\n",
    "divvy_df[\"start_season\"] = divvy_df.started_at.apply(\n",
    "    lambda x: changeDateFormatDivvy(x)[\"season\"])\n",
    "divvy_df[\"start_time\"] = divvy_df.started_at.apply(\n",
    "    lambda x: changeDateFormatDivvy(x)[\"time\"])\n",
    "divvy_df[\"start_time_d\"] = divvy_df.started_at.apply(\n",
    "    lambda x: changeDateFormatDivvy(x)[\"time-d\"])\n",
    "divvy_df[\"start_time_dd\"] = divvy_df.started_at.apply(\n",
    "    lambda x: changeDateFormatDivvy(x)[\"time-dd\"])\n",
    "divvy_df[\"start_time_holiday\"] = divvy_df.started_at.apply(\n",
    "    lambda x: changeDateFormatDivvy(x)[\"holiday\"])\n",
    "divvy_df[\"ended_date\"] = divvy_df.ended_at.apply(\n",
    "    lambda x: changeDateFormatDivvy(x)[\"date\"])\n",
    "divvy_df[\"ended_time\"] = divvy_df.ended_at.apply(\n",
    "    lambda x: changeDateFormatDivvy(x)[\"time\"])\n",
    "\n",
    "%Y-%m-%d % I: % M: % S\n"
   ]
  },
  {
   "cell_type": "code",
   "execution_count": null,
   "id": "cf5ab913",
   "metadata": {},
   "outputs": [],
   "source": [
    "divvy_df[\"new_start_date\"]\n"
   ]
  },
  {
   "cell_type": "code",
   "execution_count": null,
   "id": "5c37cf30",
   "metadata": {},
   "outputs": [],
   "source": [
    "weather_df.time\n",
    "weather_df.time.unique()\n"
   ]
  },
  {
   "cell_type": "code",
   "execution_count": null,
   "id": "6edbbbce",
   "metadata": {},
   "outputs": [],
   "source": [
    "print(divvy_df.start_date)\n",
    "divvy_df.head()\n"
   ]
  },
  {
   "cell_type": "code",
   "execution_count": null,
   "id": "5b066494",
   "metadata": {},
   "outputs": [],
   "source": [
    "weather_df.head()"
   ]
  },
  {
   "cell_type": "code",
   "execution_count": null,
   "id": "c9880ae4",
   "metadata": {},
   "outputs": [],
   "source": [
    "divvy_df[\"combined_dt\"] = divvy_df[\"start_date\"]\n"
   ]
  },
  {
   "cell_type": "code",
   "execution_count": 18,
   "id": "8774cb90",
   "metadata": {},
   "outputs": [
    {
     "ename": "KeyboardInterrupt",
     "evalue": "",
     "output_type": "error",
     "traceback": [
      "\u001b[0;31m---------------------------------------------------------------------------\u001b[0m",
      "\u001b[0;31mKeyboardInterrupt\u001b[0m                         Traceback (most recent call last)",
      "\u001b[0;32m/var/folders/nl/g5tcrm0x43d5b2k1mkz9bnt80000gn/T/ipykernel_1350/640504901.py\u001b[0m in \u001b[0;36m<module>\u001b[0;34m\u001b[0m\n\u001b[1;32m     34\u001b[0m \u001b[0;34m\u001b[0m\u001b[0m\n\u001b[1;32m     35\u001b[0m \u001b[0;32mfor\u001b[0m \u001b[0mi\u001b[0m \u001b[0;32min\u001b[0m \u001b[0mdivvy_df\u001b[0m\u001b[0;34m.\u001b[0m\u001b[0mindex\u001b[0m\u001b[0;34m:\u001b[0m\u001b[0;34m\u001b[0m\u001b[0;34m\u001b[0m\u001b[0m\n\u001b[0;32m---> 36\u001b[0;31m     \u001b[0mmergeW\u001b[0m\u001b[0;34m(\u001b[0m\u001b[0mdivvy_df\u001b[0m\u001b[0;34m.\u001b[0m\u001b[0mat\u001b[0m\u001b[0;34m[\u001b[0m\u001b[0mi\u001b[0m\u001b[0;34m,\u001b[0m \u001b[0;34m\"start_date\"\u001b[0m\u001b[0;34m]\u001b[0m\u001b[0;34m,\u001b[0m \u001b[0mdivvy_df\u001b[0m\u001b[0;34m.\u001b[0m\u001b[0mat\u001b[0m\u001b[0;34m[\u001b[0m\u001b[0mi\u001b[0m\u001b[0;34m,\u001b[0m \u001b[0;34m\"start_time\"\u001b[0m\u001b[0;34m]\u001b[0m\u001b[0;34m)\u001b[0m\u001b[0;34m\u001b[0m\u001b[0;34m\u001b[0m\u001b[0m\n\u001b[0m\u001b[1;32m     37\u001b[0m \u001b[0;34m\u001b[0m\u001b[0m\n",
      "\u001b[0;32m/var/folders/nl/g5tcrm0x43d5b2k1mkz9bnt80000gn/T/ipykernel_1350/640504901.py\u001b[0m in \u001b[0;36mmergeW\u001b[0;34m(d, t)\u001b[0m\n\u001b[1;32m     24\u001b[0m \u001b[0;34m\u001b[0m\u001b[0m\n\u001b[1;32m     25\u001b[0m \u001b[0;32mdef\u001b[0m \u001b[0mmergeW\u001b[0m\u001b[0;34m(\u001b[0m\u001b[0md\u001b[0m\u001b[0;34m,\u001b[0m\u001b[0mt\u001b[0m\u001b[0;34m)\u001b[0m\u001b[0;34m:\u001b[0m\u001b[0;34m\u001b[0m\u001b[0;34m\u001b[0m\u001b[0m\n\u001b[0;32m---> 26\u001b[0;31m     \u001b[0mwdf\u001b[0m \u001b[0;34m=\u001b[0m \u001b[0mgetNearestWeatherTime\u001b[0m\u001b[0;34m(\u001b[0m\u001b[0md\u001b[0m\u001b[0;34m,\u001b[0m \u001b[0mt\u001b[0m\u001b[0;34m)\u001b[0m\u001b[0;34m\u001b[0m\u001b[0;34m\u001b[0m\u001b[0m\n\u001b[0m\u001b[1;32m     27\u001b[0m     \u001b[0mwind_speeds\u001b[0m\u001b[0;34m.\u001b[0m\u001b[0mappend\u001b[0m\u001b[0;34m(\u001b[0m\u001b[0mwdf\u001b[0m\u001b[0;34m[\u001b[0m\u001b[0;34m\"h-windSpeedMiles\"\u001b[0m\u001b[0;34m]\u001b[0m\u001b[0;34m.\u001b[0m\u001b[0mitem\u001b[0m\u001b[0;34m(\u001b[0m\u001b[0;34m)\u001b[0m\u001b[0;34m)\u001b[0m\u001b[0;34m\u001b[0m\u001b[0;34m\u001b[0m\u001b[0m\n\u001b[1;32m     28\u001b[0m     \u001b[0mtempratures\u001b[0m\u001b[0;34m.\u001b[0m\u001b[0mappend\u001b[0m\u001b[0;34m(\u001b[0m\u001b[0mwdf\u001b[0m\u001b[0;34m[\u001b[0m\u001b[0;34m\"h-tempC\"\u001b[0m\u001b[0;34m]\u001b[0m\u001b[0;34m.\u001b[0m\u001b[0mitem\u001b[0m\u001b[0;34m(\u001b[0m\u001b[0;34m)\u001b[0m\u001b[0;34m)\u001b[0m\u001b[0;34m\u001b[0m\u001b[0;34m\u001b[0m\u001b[0m\n",
      "\u001b[0;32m/var/folders/nl/g5tcrm0x43d5b2k1mkz9bnt80000gn/T/ipykernel_1350/640504901.py\u001b[0m in \u001b[0;36mgetNearestWeatherTime\u001b[0;34m(d, t)\u001b[0m\n\u001b[1;32m      4\u001b[0m \u001b[0;32mdef\u001b[0m \u001b[0mgetNearestWeatherTime\u001b[0m\u001b[0;34m(\u001b[0m\u001b[0md\u001b[0m\u001b[0;34m,\u001b[0m \u001b[0mt\u001b[0m\u001b[0;34m)\u001b[0m\u001b[0;34m:\u001b[0m\u001b[0;34m\u001b[0m\u001b[0;34m\u001b[0m\u001b[0m\n\u001b[1;32m      5\u001b[0m     \u001b[0;32mtry\u001b[0m\u001b[0;34m:\u001b[0m\u001b[0;34m\u001b[0m\u001b[0;34m\u001b[0m\u001b[0m\n\u001b[0;32m----> 6\u001b[0;31m         return weather_df.loc[(weather_df.date == d) &\n\u001b[0m\u001b[1;32m      7\u001b[0m                               (weather_df.time == present_ts[np.abs(present_ts - t).argmin()])]\n\u001b[1;32m      8\u001b[0m     \u001b[0;32mexcept\u001b[0m \u001b[0mException\u001b[0m \u001b[0;32mas\u001b[0m \u001b[0me\u001b[0m\u001b[0;34m:\u001b[0m\u001b[0;34m\u001b[0m\u001b[0;34m\u001b[0m\u001b[0m\n",
      "\u001b[0;32m~/opt/anaconda3/lib/python3.9/site-packages/pandas/core/ops/common.py\u001b[0m in \u001b[0;36mnew_method\u001b[0;34m(self, other)\u001b[0m\n\u001b[1;32m     67\u001b[0m         \u001b[0mother\u001b[0m \u001b[0;34m=\u001b[0m \u001b[0mitem_from_zerodim\u001b[0m\u001b[0;34m(\u001b[0m\u001b[0mother\u001b[0m\u001b[0;34m)\u001b[0m\u001b[0;34m\u001b[0m\u001b[0;34m\u001b[0m\u001b[0m\n\u001b[1;32m     68\u001b[0m \u001b[0;34m\u001b[0m\u001b[0m\n\u001b[0;32m---> 69\u001b[0;31m         \u001b[0;32mreturn\u001b[0m \u001b[0mmethod\u001b[0m\u001b[0;34m(\u001b[0m\u001b[0mself\u001b[0m\u001b[0;34m,\u001b[0m \u001b[0mother\u001b[0m\u001b[0;34m)\u001b[0m\u001b[0;34m\u001b[0m\u001b[0;34m\u001b[0m\u001b[0m\n\u001b[0m\u001b[1;32m     70\u001b[0m \u001b[0;34m\u001b[0m\u001b[0m\n\u001b[1;32m     71\u001b[0m     \u001b[0;32mreturn\u001b[0m \u001b[0mnew_method\u001b[0m\u001b[0;34m\u001b[0m\u001b[0;34m\u001b[0m\u001b[0m\n",
      "\u001b[0;32m~/opt/anaconda3/lib/python3.9/site-packages/pandas/core/arraylike.py\u001b[0m in \u001b[0;36m__eq__\u001b[0;34m(self, other)\u001b[0m\n\u001b[1;32m     30\u001b[0m     \u001b[0;34m@\u001b[0m\u001b[0munpack_zerodim_and_defer\u001b[0m\u001b[0;34m(\u001b[0m\u001b[0;34m\"__eq__\"\u001b[0m\u001b[0;34m)\u001b[0m\u001b[0;34m\u001b[0m\u001b[0;34m\u001b[0m\u001b[0m\n\u001b[1;32m     31\u001b[0m     \u001b[0;32mdef\u001b[0m \u001b[0m__eq__\u001b[0m\u001b[0;34m(\u001b[0m\u001b[0mself\u001b[0m\u001b[0;34m,\u001b[0m \u001b[0mother\u001b[0m\u001b[0;34m)\u001b[0m\u001b[0;34m:\u001b[0m\u001b[0;34m\u001b[0m\u001b[0;34m\u001b[0m\u001b[0m\n\u001b[0;32m---> 32\u001b[0;31m         \u001b[0;32mreturn\u001b[0m \u001b[0mself\u001b[0m\u001b[0;34m.\u001b[0m\u001b[0m_cmp_method\u001b[0m\u001b[0;34m(\u001b[0m\u001b[0mother\u001b[0m\u001b[0;34m,\u001b[0m \u001b[0moperator\u001b[0m\u001b[0;34m.\u001b[0m\u001b[0meq\u001b[0m\u001b[0;34m)\u001b[0m\u001b[0;34m\u001b[0m\u001b[0;34m\u001b[0m\u001b[0m\n\u001b[0m\u001b[1;32m     33\u001b[0m \u001b[0;34m\u001b[0m\u001b[0m\n\u001b[1;32m     34\u001b[0m     \u001b[0;34m@\u001b[0m\u001b[0munpack_zerodim_and_defer\u001b[0m\u001b[0;34m(\u001b[0m\u001b[0;34m\"__ne__\"\u001b[0m\u001b[0;34m)\u001b[0m\u001b[0;34m\u001b[0m\u001b[0;34m\u001b[0m\u001b[0m\n",
      "\u001b[0;32m~/opt/anaconda3/lib/python3.9/site-packages/pandas/core/series.py\u001b[0m in \u001b[0;36m_cmp_method\u001b[0;34m(self, other, op)\u001b[0m\n\u001b[1;32m   5500\u001b[0m \u001b[0;34m\u001b[0m\u001b[0m\n\u001b[1;32m   5501\u001b[0m         \u001b[0;32mwith\u001b[0m \u001b[0mnp\u001b[0m\u001b[0;34m.\u001b[0m\u001b[0merrstate\u001b[0m\u001b[0;34m(\u001b[0m\u001b[0mall\u001b[0m\u001b[0;34m=\u001b[0m\u001b[0;34m\"ignore\"\u001b[0m\u001b[0;34m)\u001b[0m\u001b[0;34m:\u001b[0m\u001b[0;34m\u001b[0m\u001b[0;34m\u001b[0m\u001b[0m\n\u001b[0;32m-> 5502\u001b[0;31m             \u001b[0mres_values\u001b[0m \u001b[0;34m=\u001b[0m \u001b[0mops\u001b[0m\u001b[0;34m.\u001b[0m\u001b[0mcomparison_op\u001b[0m\u001b[0;34m(\u001b[0m\u001b[0mlvalues\u001b[0m\u001b[0;34m,\u001b[0m \u001b[0mrvalues\u001b[0m\u001b[0;34m,\u001b[0m \u001b[0mop\u001b[0m\u001b[0;34m)\u001b[0m\u001b[0;34m\u001b[0m\u001b[0;34m\u001b[0m\u001b[0m\n\u001b[0m\u001b[1;32m   5503\u001b[0m \u001b[0;34m\u001b[0m\u001b[0m\n\u001b[1;32m   5504\u001b[0m         \u001b[0;32mreturn\u001b[0m \u001b[0mself\u001b[0m\u001b[0;34m.\u001b[0m\u001b[0m_construct_result\u001b[0m\u001b[0;34m(\u001b[0m\u001b[0mres_values\u001b[0m\u001b[0;34m,\u001b[0m \u001b[0mname\u001b[0m\u001b[0;34m=\u001b[0m\u001b[0mres_name\u001b[0m\u001b[0;34m)\u001b[0m\u001b[0;34m\u001b[0m\u001b[0;34m\u001b[0m\u001b[0m\n",
      "\u001b[0;32m~/opt/anaconda3/lib/python3.9/site-packages/pandas/core/ops/array_ops.py\u001b[0m in \u001b[0;36mcomparison_op\u001b[0;34m(left, right, op)\u001b[0m\n\u001b[1;32m    282\u001b[0m \u001b[0;34m\u001b[0m\u001b[0m\n\u001b[1;32m    283\u001b[0m     \u001b[0;32melif\u001b[0m \u001b[0mis_object_dtype\u001b[0m\u001b[0;34m(\u001b[0m\u001b[0mlvalues\u001b[0m\u001b[0;34m.\u001b[0m\u001b[0mdtype\u001b[0m\u001b[0;34m)\u001b[0m \u001b[0;32mor\u001b[0m \u001b[0misinstance\u001b[0m\u001b[0;34m(\u001b[0m\u001b[0mrvalues\u001b[0m\u001b[0;34m,\u001b[0m \u001b[0mstr\u001b[0m\u001b[0;34m)\u001b[0m\u001b[0;34m:\u001b[0m\u001b[0;34m\u001b[0m\u001b[0;34m\u001b[0m\u001b[0m\n\u001b[0;32m--> 284\u001b[0;31m         \u001b[0mres_values\u001b[0m \u001b[0;34m=\u001b[0m \u001b[0mcomp_method_OBJECT_ARRAY\u001b[0m\u001b[0;34m(\u001b[0m\u001b[0mop\u001b[0m\u001b[0;34m,\u001b[0m \u001b[0mlvalues\u001b[0m\u001b[0;34m,\u001b[0m \u001b[0mrvalues\u001b[0m\u001b[0;34m)\u001b[0m\u001b[0;34m\u001b[0m\u001b[0;34m\u001b[0m\u001b[0m\n\u001b[0m\u001b[1;32m    285\u001b[0m \u001b[0;34m\u001b[0m\u001b[0m\n\u001b[1;32m    286\u001b[0m     \u001b[0;32melse\u001b[0m\u001b[0;34m:\u001b[0m\u001b[0;34m\u001b[0m\u001b[0;34m\u001b[0m\u001b[0m\n",
      "\u001b[0;32m~/opt/anaconda3/lib/python3.9/site-packages/pandas/core/ops/array_ops.py\u001b[0m in \u001b[0;36mcomp_method_OBJECT_ARRAY\u001b[0;34m(op, x, y)\u001b[0m\n\u001b[1;32m     71\u001b[0m         \u001b[0mresult\u001b[0m \u001b[0;34m=\u001b[0m \u001b[0mlibops\u001b[0m\u001b[0;34m.\u001b[0m\u001b[0mvec_compare\u001b[0m\u001b[0;34m(\u001b[0m\u001b[0mx\u001b[0m\u001b[0;34m.\u001b[0m\u001b[0mravel\u001b[0m\u001b[0;34m(\u001b[0m\u001b[0;34m)\u001b[0m\u001b[0;34m,\u001b[0m \u001b[0my\u001b[0m\u001b[0;34m.\u001b[0m\u001b[0mravel\u001b[0m\u001b[0;34m(\u001b[0m\u001b[0;34m)\u001b[0m\u001b[0;34m,\u001b[0m \u001b[0mop\u001b[0m\u001b[0;34m)\u001b[0m\u001b[0;34m\u001b[0m\u001b[0;34m\u001b[0m\u001b[0m\n\u001b[1;32m     72\u001b[0m     \u001b[0;32melse\u001b[0m\u001b[0;34m:\u001b[0m\u001b[0;34m\u001b[0m\u001b[0;34m\u001b[0m\u001b[0m\n\u001b[0;32m---> 73\u001b[0;31m         \u001b[0mresult\u001b[0m \u001b[0;34m=\u001b[0m \u001b[0mlibops\u001b[0m\u001b[0;34m.\u001b[0m\u001b[0mscalar_compare\u001b[0m\u001b[0;34m(\u001b[0m\u001b[0mx\u001b[0m\u001b[0;34m.\u001b[0m\u001b[0mravel\u001b[0m\u001b[0;34m(\u001b[0m\u001b[0;34m)\u001b[0m\u001b[0;34m,\u001b[0m \u001b[0my\u001b[0m\u001b[0;34m,\u001b[0m \u001b[0mop\u001b[0m\u001b[0;34m)\u001b[0m\u001b[0;34m\u001b[0m\u001b[0;34m\u001b[0m\u001b[0m\n\u001b[0m\u001b[1;32m     74\u001b[0m     \u001b[0;32mreturn\u001b[0m \u001b[0mresult\u001b[0m\u001b[0;34m.\u001b[0m\u001b[0mreshape\u001b[0m\u001b[0;34m(\u001b[0m\u001b[0mx\u001b[0m\u001b[0;34m.\u001b[0m\u001b[0mshape\u001b[0m\u001b[0;34m)\u001b[0m\u001b[0;34m\u001b[0m\u001b[0;34m\u001b[0m\u001b[0m\n\u001b[1;32m     75\u001b[0m \u001b[0;34m\u001b[0m\u001b[0m\n",
      "\u001b[0;31mKeyboardInterrupt\u001b[0m: "
     ]
    }
   ],
   "source": [
    "import numpy as np\n",
    "\n",
    "present_ts = weather_df.time.unique()\n",
    "def getNearestWeatherTime(d, t):\n",
    "    try:\n",
    "        return weather_df.loc[(weather_df.date == d) &\n",
    "                              (weather_df.time == present_ts[np.abs(present_ts - t).argmin()])]\n",
    "    except Exception as e:\n",
    "        print(\"dddd\", d, \"ttt\", t)\n",
    "        return \"error\"\n",
    "\n",
    "\n",
    "getNearestWeatherTime(\"01-01-13\", 1100)[\"h-uvIndex\"].item()\n",
    "\n",
    "\n",
    "\n",
    "wind_speeds = []\n",
    "tempratures = []\n",
    "feelsLikeTemps = []\n",
    "rainPrecips = []\n",
    "uvIndexes = []\n",
    "visibilities = []\n",
    "\n",
    "\n",
    "def mergeW(d,t):\n",
    "    wdf = getNearestWeatherTime(d, t)\n",
    "    wind_speeds.append(wdf[\"h-windSpeedMiles\"].item())\n",
    "    tempratures.append(wdf[\"h-tempC\"].item())\n",
    "    feelsLikeTemps.append(wdf[\"h-FeelsLikeC\"].item())\n",
    "    rainPrecips.append(wdf[\"h-precipMM\"].item())\n",
    "    uvIndexes.append(wdf[\"h-uvIndex\"].item())\n",
    "    visibilities.append(wdf[\"h-visibilityKM\"].item())\n",
    "\n",
    "\n",
    "for i in divvy_df.index:\n",
    "    mergeW(divvy_df.at[i, \"start_date\"], divvy_df.at[i, \"start_time\"])\n",
    "\n"
   ]
  },
  {
   "cell_type": "code",
   "execution_count": null,
   "id": "d336b835",
   "metadata": {},
   "outputs": [],
   "source": [
    "len(wind_speeds)\n",
    "len(tempratures)\n",
    "len(feelsLikeTemps)\n",
    "len(rainPrecips)\n",
    "len(uvIndexes)\n",
    "len(visibilities)\n",
    "print(divvy_df.shape)\n",
    "#219467\n",
    "divvy_df.insert(len(divvy_df.columns)-1, column=\"windspeed\", value=wind_speeds)\n",
    "divvy_df.insert(len(divvy_df.columns)-1,\n",
    "                column=\"tempratures\", value=tempratures)\n",
    "divvy_df.insert(len(divvy_df.columns)-1,\n",
    "              column=\"feelsLikeTemps\", value=feelsLikeTemps)\n",
    "divvy_df.insert(len(divvy_df.columns)-1,\n",
    "                column=\"rainPrecips\", value=rainPrecips)\n",
    "divvy_df.insert(len(divvy_df.columns)-1, column=\"uvIndexes\", value=uvIndexes)\n",
    "divvy_df.insert(len(divvy_df.columns)-1,\n",
    "                column=\"visibilities\", value=visibilities)\n",
    "\n",
    "print(divvy_df.head())\n",
    "divvy_df.shape\n"
   ]
  },
  {
   "cell_type": "code",
   "execution_count": null,
   "id": "3ee78655",
   "metadata": {},
   "outputs": [],
   "source": [
    "print(divvy_df.columns)\n",
    "drop_col = ['started_at', \"ended_at\"]\n",
    "divvy_df.drop(drop_col,axis=1,inplace=True)\n",
    "print(divvy_df.columns)\n"
   ]
  },
  {
   "cell_type": "code",
   "execution_count": null,
   "id": "aee2efb5",
   "metadata": {},
   "outputs": [],
   "source": [
    "divvy_df.to_csv(\"fin_processed_file.csv\",index=False)\n"
   ]
  },
  {
   "cell_type": "code",
   "execution_count": null,
   "id": "3df2de87",
   "metadata": {},
   "outputs": [],
   "source": [
    "divvy_df.isna().any()"
   ]
  },
  {
   "cell_type": "code",
   "execution_count": null,
   "id": "c35095d0",
   "metadata": {},
   "outputs": [],
   "source": [
    "from sklearn.model_selection import train_test_split\n",
    "new_df, new_df2 = train_test_split(divvy_df,test_size=0.99)\n",
    "\n",
    "print(new_df.shape)\n",
    "print(new_df2.shape)\n",
    "\n",
    "new_df.to_csv(\"SampleTrainingData.csv\", Index=False)\n"
   ]
  },
  {
   "cell_type": "code",
   "execution_count": null,
   "id": "5545b686",
   "metadata": {},
   "outputs": [],
   "source": [
    "new_df.to_csv(\"SampleTrainingData.csv\", index=False)\n",
    "new_df2.to_csv(\"SampleTestData_large99_percent.csv\", index=False)\n"
   ]
  },
  {
   "cell_type": "code",
   "execution_count": 3,
   "id": "30f12d8b",
   "metadata": {},
   "outputs": [
    {
     "name": "stderr",
     "output_type": "stream",
     "text": [
      "/Users/jags/opt/anaconda3/lib/python3.9/site-packages/IPython/core/interactiveshell.py:3444: DtypeWarning: Columns (0) have mixed types.Specify dtype option on import or set low_memory=False.\n",
      "  exec(code_obj, self.user_global_ns, self.user_ns)\n"
     ]
    },
    {
     "data": {
      "text/html": [
       "<div>\n",
       "<style scoped>\n",
       "    .dataframe tbody tr th:only-of-type {\n",
       "        vertical-align: middle;\n",
       "    }\n",
       "\n",
       "    .dataframe tbody tr th {\n",
       "        vertical-align: top;\n",
       "    }\n",
       "\n",
       "    .dataframe thead th {\n",
       "        text-align: right;\n",
       "    }\n",
       "</style>\n",
       "<table border=\"1\" class=\"dataframe\">\n",
       "  <thead>\n",
       "    <tr style=\"text-align: right;\">\n",
       "      <th></th>\n",
       "      <th>trip_duration</th>\n",
       "      <th>start_station_name</th>\n",
       "      <th>end_station_name</th>\n",
       "      <th>new_start_date</th>\n",
       "      <th>new_end_date</th>\n",
       "      <th>start_date</th>\n",
       "      <th>start_day</th>\n",
       "      <th>start_season</th>\n",
       "      <th>start_time</th>\n",
       "      <th>start_time_d</th>\n",
       "      <th>...</th>\n",
       "      <th>start_time_holiday</th>\n",
       "      <th>ended_date</th>\n",
       "      <th>ended_time</th>\n",
       "      <th>windspeed</th>\n",
       "      <th>tempratures</th>\n",
       "      <th>feelsLikeTemps</th>\n",
       "      <th>rainPrecips</th>\n",
       "      <th>uvIndexes</th>\n",
       "      <th>visibilities</th>\n",
       "      <th>combined_dt</th>\n",
       "    </tr>\n",
       "  </thead>\n",
       "  <tbody>\n",
       "    <tr>\n",
       "      <th>0</th>\n",
       "      <td>521</td>\n",
       "      <td>Wilton Ave &amp; Belmont Ave</td>\n",
       "      <td>Southport Ave &amp; Roscoe St</td>\n",
       "      <td>12-31-15 17:35:00</td>\n",
       "      <td>12-31-15 17:35:00</td>\n",
       "      <td>12-31-15</td>\n",
       "      <td>3</td>\n",
       "      <td>4</td>\n",
       "      <td>1735</td>\n",
       "      <td>3</td>\n",
       "      <td>...</td>\n",
       "      <td>False</td>\n",
       "      <td>12-31-15</td>\n",
       "      <td>1744</td>\n",
       "      <td>14</td>\n",
       "      <td>-4</td>\n",
       "      <td>-11</td>\n",
       "      <td>0.0</td>\n",
       "      <td>1</td>\n",
       "      <td>10</td>\n",
       "      <td>12-31-15</td>\n",
       "    </tr>\n",
       "    <tr>\n",
       "      <th>1</th>\n",
       "      <td>256</td>\n",
       "      <td>Clark St &amp; Schiller St</td>\n",
       "      <td>Clybourn Ave &amp; Division St</td>\n",
       "      <td>12-31-15 17:37:00</td>\n",
       "      <td>12-31-15 17:37:00</td>\n",
       "      <td>12-31-15</td>\n",
       "      <td>3</td>\n",
       "      <td>4</td>\n",
       "      <td>1737</td>\n",
       "      <td>3</td>\n",
       "      <td>...</td>\n",
       "      <td>False</td>\n",
       "      <td>12-31-15</td>\n",
       "      <td>1741</td>\n",
       "      <td>14</td>\n",
       "      <td>-4</td>\n",
       "      <td>-11</td>\n",
       "      <td>0.0</td>\n",
       "      <td>1</td>\n",
       "      <td>10</td>\n",
       "      <td>12-31-15</td>\n",
       "    </tr>\n",
       "    <tr>\n",
       "      <th>2</th>\n",
       "      <td>134</td>\n",
       "      <td>Marine Dr &amp; Ainslie St</td>\n",
       "      <td>Clarendon Ave &amp; Leland Ave</td>\n",
       "      <td>12-31-15 17:37:00</td>\n",
       "      <td>12-31-15 17:37:00</td>\n",
       "      <td>12-31-15</td>\n",
       "      <td>3</td>\n",
       "      <td>4</td>\n",
       "      <td>1737</td>\n",
       "      <td>3</td>\n",
       "      <td>...</td>\n",
       "      <td>False</td>\n",
       "      <td>12-31-15</td>\n",
       "      <td>1740</td>\n",
       "      <td>14</td>\n",
       "      <td>-4</td>\n",
       "      <td>-11</td>\n",
       "      <td>0.0</td>\n",
       "      <td>1</td>\n",
       "      <td>10</td>\n",
       "      <td>12-31-15</td>\n",
       "    </tr>\n",
       "    <tr>\n",
       "      <th>3</th>\n",
       "      <td>995</td>\n",
       "      <td>Ashland Ave &amp; Blackhawk St</td>\n",
       "      <td>Green St (Halsted St) &amp; Madison St</td>\n",
       "      <td>12-31-15 17:38:00</td>\n",
       "      <td>12-31-15 17:38:00</td>\n",
       "      <td>12-31-15</td>\n",
       "      <td>3</td>\n",
       "      <td>4</td>\n",
       "      <td>1738</td>\n",
       "      <td>3</td>\n",
       "      <td>...</td>\n",
       "      <td>False</td>\n",
       "      <td>12-31-15</td>\n",
       "      <td>1755</td>\n",
       "      <td>14</td>\n",
       "      <td>-4</td>\n",
       "      <td>-11</td>\n",
       "      <td>0.0</td>\n",
       "      <td>1</td>\n",
       "      <td>10</td>\n",
       "      <td>12-31-15</td>\n",
       "    </tr>\n",
       "    <tr>\n",
       "      <th>4</th>\n",
       "      <td>177</td>\n",
       "      <td>Larrabee St &amp; Kingsbury St</td>\n",
       "      <td>Sedgwick St &amp; Huron St</td>\n",
       "      <td>12-31-15 17:38:00</td>\n",
       "      <td>12-31-15 17:38:00</td>\n",
       "      <td>12-31-15</td>\n",
       "      <td>3</td>\n",
       "      <td>4</td>\n",
       "      <td>1738</td>\n",
       "      <td>3</td>\n",
       "      <td>...</td>\n",
       "      <td>False</td>\n",
       "      <td>12-31-15</td>\n",
       "      <td>1741</td>\n",
       "      <td>14</td>\n",
       "      <td>-4</td>\n",
       "      <td>-11</td>\n",
       "      <td>0.0</td>\n",
       "      <td>1</td>\n",
       "      <td>10</td>\n",
       "      <td>12-31-15</td>\n",
       "    </tr>\n",
       "  </tbody>\n",
       "</table>\n",
       "<p>5 rows × 21 columns</p>\n",
       "</div>"
      ],
      "text/plain": [
       "  trip_duration          start_station_name  \\\n",
       "0           521    Wilton Ave & Belmont Ave   \n",
       "1           256      Clark St & Schiller St   \n",
       "2           134      Marine Dr & Ainslie St   \n",
       "3           995  Ashland Ave & Blackhawk St   \n",
       "4           177  Larrabee St & Kingsbury St   \n",
       "\n",
       "                     end_station_name     new_start_date       new_end_date  \\\n",
       "0           Southport Ave & Roscoe St  12-31-15 17:35:00  12-31-15 17:35:00   \n",
       "1          Clybourn Ave & Division St  12-31-15 17:37:00  12-31-15 17:37:00   \n",
       "2          Clarendon Ave & Leland Ave  12-31-15 17:37:00  12-31-15 17:37:00   \n",
       "3  Green St (Halsted St) & Madison St  12-31-15 17:38:00  12-31-15 17:38:00   \n",
       "4              Sedgwick St & Huron St  12-31-15 17:38:00  12-31-15 17:38:00   \n",
       "\n",
       "  start_date  start_day  start_season  start_time  start_time_d  ...  \\\n",
       "0   12-31-15          3             4        1735             3  ...   \n",
       "1   12-31-15          3             4        1737             3  ...   \n",
       "2   12-31-15          3             4        1737             3  ...   \n",
       "3   12-31-15          3             4        1738             3  ...   \n",
       "4   12-31-15          3             4        1738             3  ...   \n",
       "\n",
       "   start_time_holiday  ended_date ended_time  windspeed  tempratures  \\\n",
       "0               False    12-31-15       1744         14           -4   \n",
       "1               False    12-31-15       1741         14           -4   \n",
       "2               False    12-31-15       1740         14           -4   \n",
       "3               False    12-31-15       1755         14           -4   \n",
       "4               False    12-31-15       1741         14           -4   \n",
       "\n",
       "   feelsLikeTemps  rainPrecips  uvIndexes  visibilities  combined_dt  \n",
       "0             -11          0.0          1            10     12-31-15  \n",
       "1             -11          0.0          1            10     12-31-15  \n",
       "2             -11          0.0          1            10     12-31-15  \n",
       "3             -11          0.0          1            10     12-31-15  \n",
       "4             -11          0.0          1            10     12-31-15  \n",
       "\n",
       "[5 rows x 21 columns]"
      ]
     },
     "execution_count": 3,
     "metadata": {},
     "output_type": "execute_result"
    }
   ],
   "source": [
    "divvy_df = pd.read_csv(\"fin_processed_file.csv\")\n",
    "divvy_df.head()"
   ]
  },
  {
   "cell_type": "code",
   "execution_count": 14,
   "id": "736b0d89",
   "metadata": {},
   "outputs": [
    {
     "data": {
      "text/plain": [
       "datetime.datetime(2015, 12, 31, 17, 35)"
      ]
     },
     "execution_count": 14,
     "metadata": {},
     "output_type": "execute_result"
    }
   ],
   "source": [
    "date = datetime.datetime.strptime('12-31-15 17:35:00', \"%m-%d-%y %H:%M:%S\")\n",
    "date"
   ]
  },
  {
   "cell_type": "code",
   "execution_count": 19,
   "id": "65dc8b5d",
   "metadata": {},
   "outputs": [],
   "source": [
    "def getNearestWeatherTime(d, t):\n",
    "    try:\n",
    "        return weather_df.loc[(weather_df.date == d) &\n",
    "                              (weather_df.time == present_ts[np.abs(present_ts - t).argmin()])]\n",
    "    except Exception as e:\n",
    "        print(\"dddd\", d, \"ttt\", t)\n",
    "        return \"error\"\n"
   ]
  },
  {
   "cell_type": "code",
   "execution_count": 20,
   "id": "f84939a1",
   "metadata": {},
   "outputs": [],
   "source": [
    "def getSnow(x):\n",
    "    if type(x) == type(\"\"):\n",
    "        date = datetime.datetime.strptime(x, \"%m-%d-%y %H:%M:%S\")\n",
    "        return getNearestWeatherTime(date.strftime('%m-%d-%y'), int(date.strftime('%H%M')))[\"totalSnow_cm\"].item()\n",
    "# divvy_df['snow'] = divvy_df.new_start_date.apply(lambda x: getSnow(x))\n",
    " "
   ]
  },
  {
   "cell_type": "code",
   "execution_count": 22,
   "id": "9c6dff4e",
   "metadata": {},
   "outputs": [
    {
     "ename": "KeyboardInterrupt",
     "evalue": "",
     "output_type": "error",
     "traceback": [
      "\u001b[0;31m---------------------------------------------------------------------------\u001b[0m",
      "\u001b[0;31mKeyboardInterrupt\u001b[0m                         Traceback (most recent call last)",
      "\u001b[0;32m/var/folders/nl/g5tcrm0x43d5b2k1mkz9bnt80000gn/T/ipykernel_1350/170820615.py\u001b[0m in \u001b[0;36m<module>\u001b[0;34m\u001b[0m\n\u001b[0;32m----> 1\u001b[0;31m \u001b[0mdivvy_df\u001b[0m\u001b[0;34m[\u001b[0m\u001b[0;34m'snow'\u001b[0m\u001b[0;34m]\u001b[0m \u001b[0;34m=\u001b[0m \u001b[0mdivvy_df\u001b[0m\u001b[0;34m.\u001b[0m\u001b[0mnew_start_date\u001b[0m\u001b[0;34m.\u001b[0m\u001b[0mapply\u001b[0m\u001b[0;34m(\u001b[0m\u001b[0;32mlambda\u001b[0m \u001b[0mx\u001b[0m\u001b[0;34m:\u001b[0m \u001b[0mgetSnow\u001b[0m\u001b[0;34m(\u001b[0m\u001b[0mx\u001b[0m\u001b[0;34m)\u001b[0m\u001b[0;34m)\u001b[0m\u001b[0;34m\u001b[0m\u001b[0;34m\u001b[0m\u001b[0m\n\u001b[0m",
      "\u001b[0;32m~/opt/anaconda3/lib/python3.9/site-packages/pandas/core/series.py\u001b[0m in \u001b[0;36mapply\u001b[0;34m(self, func, convert_dtype, args, **kwargs)\u001b[0m\n\u001b[1;32m   4355\u001b[0m         \u001b[0mdtype\u001b[0m\u001b[0;34m:\u001b[0m \u001b[0mfloat64\u001b[0m\u001b[0;34m\u001b[0m\u001b[0;34m\u001b[0m\u001b[0m\n\u001b[1;32m   4356\u001b[0m         \"\"\"\n\u001b[0;32m-> 4357\u001b[0;31m         \u001b[0;32mreturn\u001b[0m \u001b[0mSeriesApply\u001b[0m\u001b[0;34m(\u001b[0m\u001b[0mself\u001b[0m\u001b[0;34m,\u001b[0m \u001b[0mfunc\u001b[0m\u001b[0;34m,\u001b[0m \u001b[0mconvert_dtype\u001b[0m\u001b[0;34m,\u001b[0m \u001b[0margs\u001b[0m\u001b[0;34m,\u001b[0m \u001b[0mkwargs\u001b[0m\u001b[0;34m)\u001b[0m\u001b[0;34m.\u001b[0m\u001b[0mapply\u001b[0m\u001b[0;34m(\u001b[0m\u001b[0;34m)\u001b[0m\u001b[0;34m\u001b[0m\u001b[0;34m\u001b[0m\u001b[0m\n\u001b[0m\u001b[1;32m   4358\u001b[0m \u001b[0;34m\u001b[0m\u001b[0m\n\u001b[1;32m   4359\u001b[0m     def _reduce(\n",
      "\u001b[0;32m~/opt/anaconda3/lib/python3.9/site-packages/pandas/core/apply.py\u001b[0m in \u001b[0;36mapply\u001b[0;34m(self)\u001b[0m\n\u001b[1;32m   1041\u001b[0m             \u001b[0;32mreturn\u001b[0m \u001b[0mself\u001b[0m\u001b[0;34m.\u001b[0m\u001b[0mapply_str\u001b[0m\u001b[0;34m(\u001b[0m\u001b[0;34m)\u001b[0m\u001b[0;34m\u001b[0m\u001b[0;34m\u001b[0m\u001b[0m\n\u001b[1;32m   1042\u001b[0m \u001b[0;34m\u001b[0m\u001b[0m\n\u001b[0;32m-> 1043\u001b[0;31m         \u001b[0;32mreturn\u001b[0m \u001b[0mself\u001b[0m\u001b[0;34m.\u001b[0m\u001b[0mapply_standard\u001b[0m\u001b[0;34m(\u001b[0m\u001b[0;34m)\u001b[0m\u001b[0;34m\u001b[0m\u001b[0;34m\u001b[0m\u001b[0m\n\u001b[0m\u001b[1;32m   1044\u001b[0m \u001b[0;34m\u001b[0m\u001b[0m\n\u001b[1;32m   1045\u001b[0m     \u001b[0;32mdef\u001b[0m \u001b[0magg\u001b[0m\u001b[0;34m(\u001b[0m\u001b[0mself\u001b[0m\u001b[0;34m)\u001b[0m\u001b[0;34m:\u001b[0m\u001b[0;34m\u001b[0m\u001b[0;34m\u001b[0m\u001b[0m\n",
      "\u001b[0;32m~/opt/anaconda3/lib/python3.9/site-packages/pandas/core/apply.py\u001b[0m in \u001b[0;36mapply_standard\u001b[0;34m(self)\u001b[0m\n\u001b[1;32m   1096\u001b[0m                 \u001b[0;31m# List[Union[Callable[..., Any], str]]]]]\"; expected\u001b[0m\u001b[0;34m\u001b[0m\u001b[0;34m\u001b[0m\u001b[0m\n\u001b[1;32m   1097\u001b[0m                 \u001b[0;31m# \"Callable[[Any], Any]\"\u001b[0m\u001b[0;34m\u001b[0m\u001b[0;34m\u001b[0m\u001b[0m\n\u001b[0;32m-> 1098\u001b[0;31m                 mapped = lib.map_infer(\n\u001b[0m\u001b[1;32m   1099\u001b[0m                     \u001b[0mvalues\u001b[0m\u001b[0;34m,\u001b[0m\u001b[0;34m\u001b[0m\u001b[0;34m\u001b[0m\u001b[0m\n\u001b[1;32m   1100\u001b[0m                     \u001b[0mf\u001b[0m\u001b[0;34m,\u001b[0m  \u001b[0;31m# type: ignore[arg-type]\u001b[0m\u001b[0;34m\u001b[0m\u001b[0;34m\u001b[0m\u001b[0m\n",
      "\u001b[0;32m~/opt/anaconda3/lib/python3.9/site-packages/pandas/_libs/lib.pyx\u001b[0m in \u001b[0;36mpandas._libs.lib.map_infer\u001b[0;34m()\u001b[0m\n",
      "\u001b[0;32m/var/folders/nl/g5tcrm0x43d5b2k1mkz9bnt80000gn/T/ipykernel_1350/170820615.py\u001b[0m in \u001b[0;36m<lambda>\u001b[0;34m(x)\u001b[0m\n\u001b[0;32m----> 1\u001b[0;31m \u001b[0mdivvy_df\u001b[0m\u001b[0;34m[\u001b[0m\u001b[0;34m'snow'\u001b[0m\u001b[0;34m]\u001b[0m \u001b[0;34m=\u001b[0m \u001b[0mdivvy_df\u001b[0m\u001b[0;34m.\u001b[0m\u001b[0mnew_start_date\u001b[0m\u001b[0;34m.\u001b[0m\u001b[0mapply\u001b[0m\u001b[0;34m(\u001b[0m\u001b[0;32mlambda\u001b[0m \u001b[0mx\u001b[0m\u001b[0;34m:\u001b[0m \u001b[0mgetSnow\u001b[0m\u001b[0;34m(\u001b[0m\u001b[0mx\u001b[0m\u001b[0;34m)\u001b[0m\u001b[0;34m)\u001b[0m\u001b[0;34m\u001b[0m\u001b[0;34m\u001b[0m\u001b[0m\n\u001b[0m",
      "\u001b[0;32m/var/folders/nl/g5tcrm0x43d5b2k1mkz9bnt80000gn/T/ipykernel_1350/3258171889.py\u001b[0m in \u001b[0;36mgetSnow\u001b[0;34m(x)\u001b[0m\n\u001b[1;32m      2\u001b[0m     \u001b[0;32mif\u001b[0m \u001b[0mtype\u001b[0m\u001b[0;34m(\u001b[0m\u001b[0mx\u001b[0m\u001b[0;34m)\u001b[0m \u001b[0;34m==\u001b[0m \u001b[0mtype\u001b[0m\u001b[0;34m(\u001b[0m\u001b[0;34m\"\"\u001b[0m\u001b[0;34m)\u001b[0m\u001b[0;34m:\u001b[0m\u001b[0;34m\u001b[0m\u001b[0;34m\u001b[0m\u001b[0m\n\u001b[1;32m      3\u001b[0m         \u001b[0mdate\u001b[0m \u001b[0;34m=\u001b[0m \u001b[0mdatetime\u001b[0m\u001b[0;34m.\u001b[0m\u001b[0mdatetime\u001b[0m\u001b[0;34m.\u001b[0m\u001b[0mstrptime\u001b[0m\u001b[0;34m(\u001b[0m\u001b[0mx\u001b[0m\u001b[0;34m,\u001b[0m \u001b[0;34m\"%m-%d-%y %H:%M:%S\"\u001b[0m\u001b[0;34m)\u001b[0m\u001b[0;34m\u001b[0m\u001b[0;34m\u001b[0m\u001b[0m\n\u001b[0;32m----> 4\u001b[0;31m         \u001b[0;32mreturn\u001b[0m \u001b[0mgetNearestWeatherTime\u001b[0m\u001b[0;34m(\u001b[0m\u001b[0mdate\u001b[0m\u001b[0;34m.\u001b[0m\u001b[0mstrftime\u001b[0m\u001b[0;34m(\u001b[0m\u001b[0;34m'%m-%d-%y'\u001b[0m\u001b[0;34m)\u001b[0m\u001b[0;34m,\u001b[0m \u001b[0mint\u001b[0m\u001b[0;34m(\u001b[0m\u001b[0mdate\u001b[0m\u001b[0;34m.\u001b[0m\u001b[0mstrftime\u001b[0m\u001b[0;34m(\u001b[0m\u001b[0;34m'%H%M'\u001b[0m\u001b[0;34m)\u001b[0m\u001b[0;34m)\u001b[0m\u001b[0;34m)\u001b[0m\u001b[0;34m[\u001b[0m\u001b[0;34m\"totalSnow_cm\"\u001b[0m\u001b[0;34m]\u001b[0m\u001b[0;34m.\u001b[0m\u001b[0mitem\u001b[0m\u001b[0;34m(\u001b[0m\u001b[0;34m)\u001b[0m\u001b[0;34m\u001b[0m\u001b[0;34m\u001b[0m\u001b[0m\n\u001b[0m\u001b[1;32m      5\u001b[0m \u001b[0;31m# divvy_df['snow'] = divvy_df.new_start_date.apply(lambda x: getSnow(x))\u001b[0m\u001b[0;34m\u001b[0m\u001b[0;34m\u001b[0m\u001b[0m\n\u001b[1;32m      6\u001b[0m \u001b[0;34m\u001b[0m\u001b[0m\n",
      "\u001b[0;32m/var/folders/nl/g5tcrm0x43d5b2k1mkz9bnt80000gn/T/ipykernel_1350/2123247657.py\u001b[0m in \u001b[0;36mgetNearestWeatherTime\u001b[0;34m(d, t)\u001b[0m\n\u001b[1;32m      2\u001b[0m     \u001b[0;32mtry\u001b[0m\u001b[0;34m:\u001b[0m\u001b[0;34m\u001b[0m\u001b[0;34m\u001b[0m\u001b[0m\n\u001b[1;32m      3\u001b[0m         return weather_df.loc[(weather_df.date == d) &\n\u001b[0;32m----> 4\u001b[0;31m                               (weather_df.time == present_ts[np.abs(present_ts - t).argmin()])]\n\u001b[0m\u001b[1;32m      5\u001b[0m     \u001b[0;32mexcept\u001b[0m \u001b[0mException\u001b[0m \u001b[0;32mas\u001b[0m \u001b[0me\u001b[0m\u001b[0;34m:\u001b[0m\u001b[0;34m\u001b[0m\u001b[0;34m\u001b[0m\u001b[0m\n\u001b[1;32m      6\u001b[0m         \u001b[0mprint\u001b[0m\u001b[0;34m(\u001b[0m\u001b[0;34m\"dddd\"\u001b[0m\u001b[0;34m,\u001b[0m \u001b[0md\u001b[0m\u001b[0;34m,\u001b[0m \u001b[0;34m\"ttt\"\u001b[0m\u001b[0;34m,\u001b[0m \u001b[0mt\u001b[0m\u001b[0;34m)\u001b[0m\u001b[0;34m\u001b[0m\u001b[0;34m\u001b[0m\u001b[0m\n",
      "\u001b[0;32m~/opt/anaconda3/lib/python3.9/site-packages/pandas/core/ops/common.py\u001b[0m in \u001b[0;36mnew_method\u001b[0;34m(self, other)\u001b[0m\n\u001b[1;32m     67\u001b[0m         \u001b[0mother\u001b[0m \u001b[0;34m=\u001b[0m \u001b[0mitem_from_zerodim\u001b[0m\u001b[0;34m(\u001b[0m\u001b[0mother\u001b[0m\u001b[0;34m)\u001b[0m\u001b[0;34m\u001b[0m\u001b[0;34m\u001b[0m\u001b[0m\n\u001b[1;32m     68\u001b[0m \u001b[0;34m\u001b[0m\u001b[0m\n\u001b[0;32m---> 69\u001b[0;31m         \u001b[0;32mreturn\u001b[0m \u001b[0mmethod\u001b[0m\u001b[0;34m(\u001b[0m\u001b[0mself\u001b[0m\u001b[0;34m,\u001b[0m \u001b[0mother\u001b[0m\u001b[0;34m)\u001b[0m\u001b[0;34m\u001b[0m\u001b[0;34m\u001b[0m\u001b[0m\n\u001b[0m\u001b[1;32m     70\u001b[0m \u001b[0;34m\u001b[0m\u001b[0m\n\u001b[1;32m     71\u001b[0m     \u001b[0;32mreturn\u001b[0m \u001b[0mnew_method\u001b[0m\u001b[0;34m\u001b[0m\u001b[0;34m\u001b[0m\u001b[0m\n",
      "\u001b[0;32m~/opt/anaconda3/lib/python3.9/site-packages/pandas/core/arraylike.py\u001b[0m in \u001b[0;36m__eq__\u001b[0;34m(self, other)\u001b[0m\n\u001b[1;32m     30\u001b[0m     \u001b[0;34m@\u001b[0m\u001b[0munpack_zerodim_and_defer\u001b[0m\u001b[0;34m(\u001b[0m\u001b[0;34m\"__eq__\"\u001b[0m\u001b[0;34m)\u001b[0m\u001b[0;34m\u001b[0m\u001b[0;34m\u001b[0m\u001b[0m\n\u001b[1;32m     31\u001b[0m     \u001b[0;32mdef\u001b[0m \u001b[0m__eq__\u001b[0m\u001b[0;34m(\u001b[0m\u001b[0mself\u001b[0m\u001b[0;34m,\u001b[0m \u001b[0mother\u001b[0m\u001b[0;34m)\u001b[0m\u001b[0;34m:\u001b[0m\u001b[0;34m\u001b[0m\u001b[0;34m\u001b[0m\u001b[0m\n\u001b[0;32m---> 32\u001b[0;31m         \u001b[0;32mreturn\u001b[0m \u001b[0mself\u001b[0m\u001b[0;34m.\u001b[0m\u001b[0m_cmp_method\u001b[0m\u001b[0;34m(\u001b[0m\u001b[0mother\u001b[0m\u001b[0;34m,\u001b[0m \u001b[0moperator\u001b[0m\u001b[0;34m.\u001b[0m\u001b[0meq\u001b[0m\u001b[0;34m)\u001b[0m\u001b[0;34m\u001b[0m\u001b[0;34m\u001b[0m\u001b[0m\n\u001b[0m\u001b[1;32m     33\u001b[0m \u001b[0;34m\u001b[0m\u001b[0m\n\u001b[1;32m     34\u001b[0m     \u001b[0;34m@\u001b[0m\u001b[0munpack_zerodim_and_defer\u001b[0m\u001b[0;34m(\u001b[0m\u001b[0;34m\"__ne__\"\u001b[0m\u001b[0;34m)\u001b[0m\u001b[0;34m\u001b[0m\u001b[0;34m\u001b[0m\u001b[0m\n",
      "\u001b[0;32m~/opt/anaconda3/lib/python3.9/site-packages/pandas/core/series.py\u001b[0m in \u001b[0;36m_cmp_method\u001b[0;34m(self, other, op)\u001b[0m\n\u001b[1;32m   5502\u001b[0m             \u001b[0mres_values\u001b[0m \u001b[0;34m=\u001b[0m \u001b[0mops\u001b[0m\u001b[0;34m.\u001b[0m\u001b[0mcomparison_op\u001b[0m\u001b[0;34m(\u001b[0m\u001b[0mlvalues\u001b[0m\u001b[0;34m,\u001b[0m \u001b[0mrvalues\u001b[0m\u001b[0;34m,\u001b[0m \u001b[0mop\u001b[0m\u001b[0;34m)\u001b[0m\u001b[0;34m\u001b[0m\u001b[0;34m\u001b[0m\u001b[0m\n\u001b[1;32m   5503\u001b[0m \u001b[0;34m\u001b[0m\u001b[0m\n\u001b[0;32m-> 5504\u001b[0;31m         \u001b[0;32mreturn\u001b[0m \u001b[0mself\u001b[0m\u001b[0;34m.\u001b[0m\u001b[0m_construct_result\u001b[0m\u001b[0;34m(\u001b[0m\u001b[0mres_values\u001b[0m\u001b[0;34m,\u001b[0m \u001b[0mname\u001b[0m\u001b[0;34m=\u001b[0m\u001b[0mres_name\u001b[0m\u001b[0;34m)\u001b[0m\u001b[0;34m\u001b[0m\u001b[0;34m\u001b[0m\u001b[0m\n\u001b[0m\u001b[1;32m   5505\u001b[0m \u001b[0;34m\u001b[0m\u001b[0m\n\u001b[1;32m   5506\u001b[0m     \u001b[0;32mdef\u001b[0m \u001b[0m_logical_method\u001b[0m\u001b[0;34m(\u001b[0m\u001b[0mself\u001b[0m\u001b[0;34m,\u001b[0m \u001b[0mother\u001b[0m\u001b[0;34m,\u001b[0m \u001b[0mop\u001b[0m\u001b[0;34m)\u001b[0m\u001b[0;34m:\u001b[0m\u001b[0;34m\u001b[0m\u001b[0;34m\u001b[0m\u001b[0m\n",
      "\u001b[0;32m~/opt/anaconda3/lib/python3.9/site-packages/pandas/core/series.py\u001b[0m in \u001b[0;36m_construct_result\u001b[0;34m(self, result, name)\u001b[0m\n\u001b[1;32m   2943\u001b[0m         \u001b[0;31m# We do not pass dtype to ensure that the Series constructor\u001b[0m\u001b[0;34m\u001b[0m\u001b[0;34m\u001b[0m\u001b[0m\n\u001b[1;32m   2944\u001b[0m         \u001b[0;31m#  does inference in the case where `result` has object-dtype.\u001b[0m\u001b[0;34m\u001b[0m\u001b[0;34m\u001b[0m\u001b[0m\n\u001b[0;32m-> 2945\u001b[0;31m         \u001b[0mout\u001b[0m \u001b[0;34m=\u001b[0m \u001b[0mself\u001b[0m\u001b[0;34m.\u001b[0m\u001b[0m_constructor\u001b[0m\u001b[0;34m(\u001b[0m\u001b[0mresult\u001b[0m\u001b[0;34m,\u001b[0m \u001b[0mindex\u001b[0m\u001b[0;34m=\u001b[0m\u001b[0mself\u001b[0m\u001b[0;34m.\u001b[0m\u001b[0mindex\u001b[0m\u001b[0;34m)\u001b[0m\u001b[0;34m\u001b[0m\u001b[0;34m\u001b[0m\u001b[0m\n\u001b[0m\u001b[1;32m   2946\u001b[0m         \u001b[0mout\u001b[0m \u001b[0;34m=\u001b[0m \u001b[0mout\u001b[0m\u001b[0;34m.\u001b[0m\u001b[0m__finalize__\u001b[0m\u001b[0;34m(\u001b[0m\u001b[0mself\u001b[0m\u001b[0;34m)\u001b[0m\u001b[0;34m\u001b[0m\u001b[0;34m\u001b[0m\u001b[0m\n\u001b[1;32m   2947\u001b[0m \u001b[0;34m\u001b[0m\u001b[0m\n",
      "\u001b[0;32m~/opt/anaconda3/lib/python3.9/site-packages/pandas/core/series.py\u001b[0m in \u001b[0;36m__init__\u001b[0;34m(self, data, index, dtype, name, copy, fastpath)\u001b[0m\n\u001b[1;32m    439\u001b[0m                 \u001b[0mdata\u001b[0m \u001b[0;34m=\u001b[0m \u001b[0msanitize_array\u001b[0m\u001b[0;34m(\u001b[0m\u001b[0mdata\u001b[0m\u001b[0;34m,\u001b[0m \u001b[0mindex\u001b[0m\u001b[0;34m,\u001b[0m \u001b[0mdtype\u001b[0m\u001b[0;34m,\u001b[0m \u001b[0mcopy\u001b[0m\u001b[0;34m)\u001b[0m\u001b[0;34m\u001b[0m\u001b[0;34m\u001b[0m\u001b[0m\n\u001b[1;32m    440\u001b[0m \u001b[0;34m\u001b[0m\u001b[0m\n\u001b[0;32m--> 441\u001b[0;31m                 \u001b[0mmanager\u001b[0m \u001b[0;34m=\u001b[0m \u001b[0mget_option\u001b[0m\u001b[0;34m(\u001b[0m\u001b[0;34m\"mode.data_manager\"\u001b[0m\u001b[0;34m)\u001b[0m\u001b[0;34m\u001b[0m\u001b[0;34m\u001b[0m\u001b[0m\n\u001b[0m\u001b[1;32m    442\u001b[0m                 \u001b[0;32mif\u001b[0m \u001b[0mmanager\u001b[0m \u001b[0;34m==\u001b[0m \u001b[0;34m\"block\"\u001b[0m\u001b[0;34m:\u001b[0m\u001b[0;34m\u001b[0m\u001b[0;34m\u001b[0m\u001b[0m\n\u001b[1;32m    443\u001b[0m                     \u001b[0mdata\u001b[0m \u001b[0;34m=\u001b[0m \u001b[0mSingleBlockManager\u001b[0m\u001b[0;34m.\u001b[0m\u001b[0mfrom_array\u001b[0m\u001b[0;34m(\u001b[0m\u001b[0mdata\u001b[0m\u001b[0;34m,\u001b[0m \u001b[0mindex\u001b[0m\u001b[0;34m)\u001b[0m\u001b[0;34m\u001b[0m\u001b[0;34m\u001b[0m\u001b[0m\n",
      "\u001b[0;32m~/opt/anaconda3/lib/python3.9/site-packages/pandas/_config/config.py\u001b[0m in \u001b[0;36m__call__\u001b[0;34m(self, *args, **kwds)\u001b[0m\n\u001b[1;32m    241\u001b[0m \u001b[0;34m\u001b[0m\u001b[0m\n\u001b[1;32m    242\u001b[0m     \u001b[0;32mdef\u001b[0m \u001b[0m__call__\u001b[0m\u001b[0;34m(\u001b[0m\u001b[0mself\u001b[0m\u001b[0;34m,\u001b[0m \u001b[0;34m*\u001b[0m\u001b[0margs\u001b[0m\u001b[0;34m,\u001b[0m \u001b[0;34m**\u001b[0m\u001b[0mkwds\u001b[0m\u001b[0;34m)\u001b[0m\u001b[0;34m:\u001b[0m\u001b[0;34m\u001b[0m\u001b[0;34m\u001b[0m\u001b[0m\n\u001b[0;32m--> 243\u001b[0;31m         \u001b[0;32mreturn\u001b[0m \u001b[0mself\u001b[0m\u001b[0;34m.\u001b[0m\u001b[0m__func__\u001b[0m\u001b[0;34m(\u001b[0m\u001b[0;34m*\u001b[0m\u001b[0margs\u001b[0m\u001b[0;34m,\u001b[0m \u001b[0;34m**\u001b[0m\u001b[0mkwds\u001b[0m\u001b[0;34m)\u001b[0m\u001b[0;34m\u001b[0m\u001b[0;34m\u001b[0m\u001b[0m\n\u001b[0m\u001b[1;32m    244\u001b[0m \u001b[0;34m\u001b[0m\u001b[0m\n\u001b[1;32m    245\u001b[0m     \u001b[0;34m@\u001b[0m\u001b[0mproperty\u001b[0m\u001b[0;34m\u001b[0m\u001b[0;34m\u001b[0m\u001b[0m\n",
      "\u001b[0;32m~/opt/anaconda3/lib/python3.9/site-packages/pandas/_config/config.py\u001b[0m in \u001b[0;36m_get_option\u001b[0;34m(pat, silent)\u001b[0m\n\u001b[1;32m    116\u001b[0m \u001b[0;34m\u001b[0m\u001b[0m\n\u001b[1;32m    117\u001b[0m     \u001b[0;31m# walk the nested dict\u001b[0m\u001b[0;34m\u001b[0m\u001b[0;34m\u001b[0m\u001b[0m\n\u001b[0;32m--> 118\u001b[0;31m     \u001b[0mroot\u001b[0m\u001b[0;34m,\u001b[0m \u001b[0mk\u001b[0m \u001b[0;34m=\u001b[0m \u001b[0m_get_root\u001b[0m\u001b[0;34m(\u001b[0m\u001b[0mkey\u001b[0m\u001b[0;34m)\u001b[0m\u001b[0;34m\u001b[0m\u001b[0;34m\u001b[0m\u001b[0m\n\u001b[0m\u001b[1;32m    119\u001b[0m     \u001b[0;32mreturn\u001b[0m \u001b[0mroot\u001b[0m\u001b[0;34m[\u001b[0m\u001b[0mk\u001b[0m\u001b[0;34m]\u001b[0m\u001b[0;34m\u001b[0m\u001b[0;34m\u001b[0m\u001b[0m\n\u001b[1;32m    120\u001b[0m \u001b[0;34m\u001b[0m\u001b[0m\n",
      "\u001b[0;32m~/opt/anaconda3/lib/python3.9/site-packages/pandas/_config/config.py\u001b[0m in \u001b[0;36m_get_root\u001b[0;34m(key)\u001b[0m\n\u001b[1;32m    566\u001b[0m     \u001b[0mpath\u001b[0m \u001b[0;34m=\u001b[0m \u001b[0mkey\u001b[0m\u001b[0;34m.\u001b[0m\u001b[0msplit\u001b[0m\u001b[0;34m(\u001b[0m\u001b[0;34m\".\"\u001b[0m\u001b[0;34m)\u001b[0m\u001b[0;34m\u001b[0m\u001b[0;34m\u001b[0m\u001b[0m\n\u001b[1;32m    567\u001b[0m     \u001b[0mcursor\u001b[0m \u001b[0;34m=\u001b[0m \u001b[0m_global_config\u001b[0m\u001b[0;34m\u001b[0m\u001b[0;34m\u001b[0m\u001b[0m\n\u001b[0;32m--> 568\u001b[0;31m     \u001b[0;32mfor\u001b[0m \u001b[0mp\u001b[0m \u001b[0;32min\u001b[0m \u001b[0mpath\u001b[0m\u001b[0;34m[\u001b[0m\u001b[0;34m:\u001b[0m\u001b[0;34m-\u001b[0m\u001b[0;36m1\u001b[0m\u001b[0;34m]\u001b[0m\u001b[0;34m:\u001b[0m\u001b[0;34m\u001b[0m\u001b[0;34m\u001b[0m\u001b[0m\n\u001b[0m\u001b[1;32m    569\u001b[0m         \u001b[0mcursor\u001b[0m \u001b[0;34m=\u001b[0m \u001b[0mcursor\u001b[0m\u001b[0;34m[\u001b[0m\u001b[0mp\u001b[0m\u001b[0;34m]\u001b[0m\u001b[0;34m\u001b[0m\u001b[0;34m\u001b[0m\u001b[0m\n\u001b[1;32m    570\u001b[0m     \u001b[0;32mreturn\u001b[0m \u001b[0mcursor\u001b[0m\u001b[0;34m,\u001b[0m \u001b[0mpath\u001b[0m\u001b[0;34m[\u001b[0m\u001b[0;34m-\u001b[0m\u001b[0;36m1\u001b[0m\u001b[0;34m]\u001b[0m\u001b[0;34m\u001b[0m\u001b[0;34m\u001b[0m\u001b[0m\n",
      "\u001b[0;31mKeyboardInterrupt\u001b[0m: "
     ]
    }
   ],
   "source": [
    "divvy_df['snow'] = divvy_df.new_start_date.apply(lambda x: getSnow(x))"
   ]
  }
 ],
 "metadata": {
  "colab": {
   "name": "data-clean.ipynb",
   "provenance": []
  },
  "interpreter": {
   "hash": "aee8b7b246df8f9039afb4144a1f6fd8d2ca17a180786b69acc140d282b71a49"
  },
  "kernelspec": {
   "display_name": "Python 3",
   "language": "python",
   "name": "python3"
  },
  "language_info": {
   "codemirror_mode": {
    "name": "ipython",
    "version": 3
   },
   "file_extension": ".py",
   "mimetype": "text/x-python",
   "name": "python",
   "nbconvert_exporter": "python",
   "pygments_lexer": "ipython3",
   "version": "3.8.8"
  }
 },
 "nbformat": 4,
 "nbformat_minor": 5
}
